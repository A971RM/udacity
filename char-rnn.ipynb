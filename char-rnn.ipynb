{
 "cells": [
  {
   "cell_type": "code",
   "execution_count": 1,
   "metadata": {},
   "outputs": [],
   "source": [
    "import torch\n",
    "import torch.nn as nn\n",
    "import torch.nn.functional as F\n",
    "import numpy as np"
   ]
  },
  {
   "cell_type": "code",
   "execution_count": 2,
   "metadata": {},
   "outputs": [
    {
     "data": {
      "text/plain": [
       "'Chapter 1\\n\\n\\nHappy families are all alike; every unhappy family is unhappy in its own\\nway.\\n\\nEverything '"
      ]
     },
     "execution_count": 2,
     "metadata": {},
     "output_type": "execute_result"
    }
   ],
   "source": [
    "text=[]\n",
    "with open('data/anna.txt', 'r') as f:\n",
    "    text=f.read()\n",
    "text[:102]"
   ]
  },
  {
   "cell_type": "code",
   "execution_count": 3,
   "metadata": {},
   "outputs": [],
   "source": [
    "chars=tuple(set(text))\n",
    "char2int={ch:ii for ii, ch in enumerate(chars)}\n",
    "int2char={ii:ch for ii, ch in enumerate(chars)}"
   ]
  },
  {
   "cell_type": "code",
   "execution_count": 4,
   "metadata": {},
   "outputs": [
    {
     "name": "stdout",
     "output_type": "stream",
     "text": [
      "'M':0\t\t'P':1\t\t'i':2\t\t'*':3\t\t'k':4\t\t'a':5\t\t'j':6\t\t'R':7\t\t'2':8\t\t'U':9\t\t's':10\t\t'I':11\t\t'b':12\t\t'!':13\t\t'K':14\t\t'9':15\t\t'.':16\t\t'4':17\t\t'$':18\t\t'p':19\t\t'G':20\t\t'E':21\t\t',':22\t\t'/':23\t\t'5':24\t\t'B':25\t\t't':26\t\t'm':27\t\t';':28\t\t'\\n':29\t\t'Z':30\t\t'&':31\t\t'f':32\t\t'J':33\t\t\"'\":34\t\t')':35\t\t'w':36\t\t'y':37\t\t'@':38\t\t'x':39\t\t'o':40\t\t'g':41\t\t'e':42\t\t'3':43\t\t'n':44\t\t'q':45\t\t'r':46\t\t'C':47\t\t'h':48\t\t'z':49\t\t'd':50\t\t'A':51\t\t'6':52\t\t':':53\t\t' ':54\t\t'O':55\t\t'%':56\t\t'-':57\t\t'\"':58\t\t'S':59\t\t'N':60\t\t'8':61\t\t'0':62\t\t'Y':63\t\t'v':64\t\t'(':65\t\t'l':66\t\t'F':67\t\t'V':68\t\t'T':69\t\t'H':70\t\t'_':71\t\t'1':72\t\t'X':73\t\t'?':74\t\t'c':75\t\t'`':76\t\t'Q':77\t\t'D':78\t\t'7':79\t\t'W':80\t\t'L':81\t\t'u':82\t\t\n",
      "\n",
      "\n",
      "0:'M'\t\t1:'P'\t\t2:'i'\t\t3:'*'\t\t4:'k'\t\t5:'a'\t\t6:'j'\t\t7:'R'\t\t8:'2'\t\t9:'U'\t\t10:'s'\t\t11:'I'\t\t12:'b'\t\t13:'!'\t\t14:'K'\t\t15:'9'\t\t16:'.'\t\t17:'4'\t\t18:'$'\t\t19:'p'\t\t20:'G'\t\t21:'E'\t\t22:','\t\t23:'/'\t\t24:'5'\t\t25:'B'\t\t26:'t'\t\t27:'m'\t\t28:';'\t\t29:'\\n'\t\t30:'Z'\t\t31:'&'\t\t32:'f'\t\t33:'J'\t\t34:\"'\"\t\t35:')'\t\t36:'w'\t\t37:'y'\t\t38:'@'\t\t39:'x'\t\t40:'o'\t\t41:'g'\t\t42:'e'\t\t43:'3'\t\t44:'n'\t\t45:'q'\t\t46:'r'\t\t47:'C'\t\t48:'h'\t\t49:'z'\t\t50:'d'\t\t51:'A'\t\t52:'6'\t\t53:':'\t\t54:' '\t\t55:'O'\t\t56:'%'\t\t57:'-'\t\t58:'\"'\t\t59:'S'\t\t60:'N'\t\t61:'8'\t\t62:'0'\t\t63:'Y'\t\t64:'v'\t\t65:'('\t\t66:'l'\t\t67:'F'\t\t68:'V'\t\t69:'T'\t\t70:'H'\t\t71:'_'\t\t72:'1'\t\t73:'X'\t\t74:'?'\t\t75:'c'\t\t76:'`'\t\t77:'Q'\t\t78:'D'\t\t79:'7'\t\t80:'W'\t\t81:'L'\t\t82:'u'\t\t"
     ]
    }
   ],
   "source": [
    "for k in char2int:\n",
    "    print(repr(k), char2int[k], sep=':', end='\\t\\t')\n",
    "print(\"\\n\\n\")\n",
    "for k in int2char:\n",
    "    print(k, repr(int2char[k]), sep=':', end='\\t\\t')"
   ]
  }
 ],
 "metadata": {
  "kernelspec": {
   "display_name": "Python 3",
   "language": "python",
   "name": "python3"
  },
  "language_info": {
   "codemirror_mode": {
    "name": "ipython",
    "version": 3
   },
   "file_extension": ".py",
   "mimetype": "text/x-python",
   "name": "python",
   "nbconvert_exporter": "python",
   "pygments_lexer": "ipython3",
   "version": "3.7.1"
  }
 },
 "nbformat": 4,
 "nbformat_minor": 2
}
