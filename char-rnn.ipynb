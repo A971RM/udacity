{
 "cells": [
  {
   "cell_type": "code",
   "execution_count": 1,
   "metadata": {},
   "outputs": [],
   "source": [
    "import torch\n",
    "import torch.nn as nn\n",
    "import torch.nn.functional as F\n",
    "import numpy as np"
   ]
  },
  {
   "cell_type": "code",
   "execution_count": 2,
   "metadata": {},
   "outputs": [
    {
     "data": {
      "text/plain": [
       "'Chapter 1\\n\\n\\nHappy families are all alike; every unhappy family is unhappy in its own\\nway.\\n\\nEverything '"
      ]
     },
     "execution_count": 2,
     "metadata": {},
     "output_type": "execute_result"
    }
   ],
   "source": [
    "text=[]\n",
    "with open('data/anna.txt', 'r') as f:\n",
    "    text=f.read()\n",
    "text[:102]"
   ]
  },
  {
   "cell_type": "code",
   "execution_count": 3,
   "metadata": {},
   "outputs": [],
   "source": [
    "chars=tuple(set(text))\n",
    "char2int={ch:ii for ii, ch in enumerate(chars)}\n",
    "int2char={ii:ch for ii, ch in enumerate(chars)}"
   ]
  },
  {
   "cell_type": "code",
   "execution_count": 4,
   "metadata": {},
   "outputs": [
    {
     "name": "stdout",
     "output_type": "stream",
     "text": [
      "* 0\t\" 1\tQ 2\t9 3\td 4\tI 5\t8 6\to 7\t: 8\tC 9\tW 10\tT 11\tO 12\tj 13\tY 14\t0 15\t4 16\tc 17\t? 18\tX 19\tk 20\tr 21\t$ 22\tE 23\t` 24\tl 25\ta 26\t% 27\tv 28\t6 29\ti 30\t  31\tJ 32\t, 33\tU 34\t\n",
      " 35\t- 36\t/ 37\tB 38\tZ 39\t5 40\t) 41\t2 42\tN 43\tm 44\t. 45\tP 46\t_ 47\t7 48\tp 49\tt 50\te 51\t& 52\ts 53\tR 54\t( 55\tg 56\t1 57\tq 58\tV 59\t3 60\tF 61\tS 62\tx 63\tf 64\t; 65\tD 66\tu 67\tw 68\tG 69\tK 70\tM 71\t' 72\tz 73\t! 74\t@ 75\tA 76\tH 77\tn 78\tb 79\ty 80\th 81\tL 82\t\n",
      "\n",
      "0 *\t1 \"\t2 Q\t3 9\t4 d\t5 I\t6 8\t7 o\t8 :\t9 C\t10 W\t11 T\t12 O\t13 j\t14 Y\t15 0\t16 4\t17 c\t18 ?\t19 X\t20 k\t21 r\t22 $\t23 E\t24 `\t25 l\t26 a\t27 %\t28 v\t29 6\t30 i\t31  \t32 J\t33 ,\t34 U\t35 \n",
      "\t36 -\t37 /\t38 B\t39 Z\t40 5\t41 )\t42 2\t43 N\t44 m\t45 .\t46 P\t47 _\t48 7\t49 p\t50 t\t51 e\t52 &\t53 s\t54 R\t55 (\t56 g\t57 1\t58 q\t59 V\t60 3\t61 F\t62 S\t63 x\t64 f\t65 ;\t66 D\t67 u\t68 w\t69 G\t70 K\t71 M\t72 '\t73 z\t74 !\t75 @\t76 A\t77 H\t78 n\t79 b\t80 y\t81 h\t82 L\t"
     ]
    }
   ],
   "source": [
    "for k in char2int:\n",
    "    print(k, char2int[k], end='\\t')\n",
    "print()\n",
    "print()\n",
    "for k in int2char:\n",
    "    print(k, int2char[k], end='\\t')"
   ]
  }
 ],
 "metadata": {
  "kernelspec": {
   "display_name": "Python 3",
   "language": "python",
   "name": "python3"
  },
  "language_info": {
   "codemirror_mode": {
    "name": "ipython",
    "version": 3
   },
   "file_extension": ".py",
   "mimetype": "text/x-python",
   "name": "python",
   "nbconvert_exporter": "python",
   "pygments_lexer": "ipython3",
   "version": "3.7.1"
  }
 },
 "nbformat": 4,
 "nbformat_minor": 2
}
