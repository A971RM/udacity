{
 "cells": [
  {
   "cell_type": "code",
   "execution_count": null,
   "metadata": {},
   "outputs": [],
   "source": [
    "import torch\n",
    "import torch.nn as nn\n",
    "import torch.nn.functional as F\n",
    "import numpy as np"
   ]
  },
  {
   "cell_type": "code",
   "execution_count": null,
   "metadata": {},
   "outputs": [],
   "source": [
    "text=[]\n",
    "with open('data/anna.txt', 'r') as f:\n",
    "    text=f.read()\n",
    "text[:102]"
   ]
  },
  {
   "cell_type": "code",
   "execution_count": null,
   "metadata": {},
   "outputs": [],
   "source": [
    "chars=tuple(set(text))\n",
    "char2int={ch:ii for ii, ch in enumerate(chars)}\n",
    "int2char={ii:ch for ii, ch in enumerate(chars)}\n",
    "encoded=np.array([char2int[ch] for ch in text])\n",
    "print(len(text), len(encoded))"
   ]
  },
  {
   "cell_type": "code",
   "execution_count": null,
   "metadata": {},
   "outputs": [],
   "source": [
    "def one_hot_encode(arr, n_labels):\n",
    "    one_hot=np.zeros(shape=(arr.size, n_labels), dtype=np.float32)\n",
    "    one_hot[np.arange(arr.size), arr.flatten()] = 1.\n",
    "    return one_hot.reshape(*arr.shape, n_labels)"
   ]
  },
  {
   "cell_type": "code",
   "execution_count": null,
   "metadata": {},
   "outputs": [],
   "source": [
    "def get_batches(arr, batch_size, seq_length):\n",
    "    batch_area=batch_size*seq_length\n",
    "    n_areas=(len(arr)-1)//batch_area\n",
    "    arrx=arr[:n_areas*batch_area].reshape(batch_size, -1)\n",
    "    arry=arr[1:n_areas*batch_area+1].reshape(batch_size, -1)\n",
    "    for na in range(n_areas):\n",
    "        start=na*seq_length\n",
    "        end=start+seq_length\n",
    "        x = arrx[:,start:end]\n",
    "        y = arry[:,start:end]\n",
    "        yield x, y"
   ]
  },
  {
   "cell_type": "code",
   "execution_count": null,
   "metadata": {},
   "outputs": [],
   "source": [
    "class CharRNN(nn.Module):\n",
    "    def __init__(self, n_input, n_hidden, n_layers, n_output):\n",
    "        super(CharRNN, self).__init__()\n",
    "        \n",
    "        self.n_layers=n_layers\n",
    "        self.n_hidden=n_hidden\n",
    "        self.lstm=nn.LSTM(input_size=n_input, hidden_size=n_hidden, num_layers=n_layers, batch_first=True)\n",
    "        self.fc=nn.Linear(n_hidden, n_output)\n",
    "        \n",
    "    def forward(self, x, hc):\n",
    "        if not h:\n",
    "            h0=torch.zeros((self.n_layers, x.shape[0], self.n_hidden), dtype=torch.float32)\n",
    "            c0=torch.zeros((self.n_layers, x.shape[0], self.n_hidden), dtype=torch.float32)\n",
    "            hc = (h0, c0)\n",
    "\n",
    "        out,hcn=self.lstm(x, hc)\n",
    "        out=out.contiguous().view(-1, self.n_hidden)\n",
    "        out=self.fc(out)\n",
    "        return out, hcn"
   ]
  },
  {
   "cell_type": "code",
   "execution_count": null,
   "metadata": {},
   "outputs": [],
   "source": [
    "chars=tuple(set(text))\n",
    "char2int={ch:ii for ii, ch in enumerate(chars)}\n",
    "int2char={ii:ch for ii, ch in enumerate(chars)}\n",
    "encoded=np.array([char2int[ch] for ch in text])\n",
    "\n",
    "n_input=len(chars)\n",
    "n_hidden=512\n",
    "n_layers=2\n",
    "n_output=len(chars)\n",
    "\n",
    "net=CharRNN(n_input, n_hidden, n_layers, n_output)\n",
    "print(net)\n",
    "\n",
    "batch_size=128\n",
    "seq_length=100\n",
    "n_epochs=20\n",
    "lr=0.001\n",
    "val_frac=0.1\n",
    "clip=5\n",
    "\n",
    "net.train()\n",
    "opt=torch.optim.Adam(net.parameters(), lr)\n",
    "criterion=nn.CrossEntropyLoss()\n",
    "\n",
    "val_idx=int(len(encoded)*val_frac)\n",
    "data, val_data = encoded[:-val_idx], encoded[-val_idx:]\n",
    "\n",
    "h=None\n",
    "\n",
    "cnt=0\n",
    "for x, y in get_batches(data, batch_size, seq_length):\n",
    "    cnt+=1\n",
    "    x=one_hot_encode(x, n_input)\n",
    "    inputs, targets=torch.from_numpy(x), torch.from_numpy(y)\n",
    "    \n",
    "    opt.zero_grad()\n",
    "    output, h = net(inputs, h)\n",
    "    loss=criterion(output, targets.contiguous().view(-1).long())\n",
    "    loss.backward()\n",
    "    nn.utils.clip_grad_norm_(net.parameters(), clip)\n",
    "    opt.step()\n",
    "    \n",
    "    "
   ]
  }
 ],
 "metadata": {
  "kernelspec": {
   "display_name": "Python 3",
   "language": "python",
   "name": "python3"
  },
  "language_info": {
   "codemirror_mode": {
    "name": "ipython",
    "version": 3
   },
   "file_extension": ".py",
   "mimetype": "text/x-python",
   "name": "python",
   "nbconvert_exporter": "python",
   "pygments_lexer": "ipython3",
   "version": "3.7.1"
  }
 },
 "nbformat": 4,
 "nbformat_minor": 2
}
