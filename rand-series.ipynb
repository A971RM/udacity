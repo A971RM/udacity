{
 "cells": [
  {
   "cell_type": "code",
   "execution_count": 1,
   "metadata": {},
   "outputs": [],
   "source": [
    "import torch\n",
    "import torch.nn as nn\n",
    "import numpy as np\n",
    "import matplotlib.pyplot as plt\n",
    "%matplotlib inline"
   ]
  },
  {
   "cell_type": "code",
   "execution_count": 2,
   "metadata": {},
   "outputs": [
    {
     "name": "stdout",
     "output_type": "stream",
     "text": [
      "RNN(1, 32, num_layers=2, batch_first=True)\n",
      "Linear(in_features=32, out_features=100, bias=True)\n",
      "RNN:\n",
      "torch.Size([32, 1])\n",
      "torch.Size([32, 32])\n",
      "torch.Size([32])\n",
      "torch.Size([32])\n",
      "torch.Size([32, 32])\n",
      "torch.Size([32, 32])\n",
      "torch.Size([32])\n",
      "torch.Size([32])\n",
      "FC:\n",
      "torch.Size([100, 32])\n",
      "torch.Size([100])\n"
     ]
    }
   ],
   "source": [
    "input_size=1\n",
    "hidden_size=32\n",
    "num_layers=2\n",
    "output_size=100\n",
    "rnn=nn.RNN(input_size=input_size, hidden_size=hidden_size, num_layers=num_layers,\n",
    "           nonlinearity='relu', batch_first=True)\n",
    "fc=nn.Linear(hidden_size,output_size)\n",
    "print(rnn, fc, sep=\"\\n\")\n",
    "print(\"RNN:\")\n",
    "for p in rnn.parameters():\n",
    "    print(p.shape)\n",
    "    \n",
    "print(\"FC:\")\n",
    "for p in fc.parameters():\n",
    "    print(p.shape)"
   ]
  },
  {
   "cell_type": "code",
   "execution_count": 3,
   "metadata": {},
   "outputs": [],
   "source": [
    "import itertools\n",
    "criterion=nn.CrossEntropyLoss()\n",
    "optimizer=torch.optim.Adam(itertools.chain(rnn.parameters(), fc.parameters()), 0.01)"
   ]
  },
  {
   "cell_type": "code",
   "execution_count": 4,
   "metadata": {},
   "outputs": [
    {
     "data": {
      "image/png": "[encoded data removed]",
      "text/plain": [
       "<Figure size 432x288 with 1 Axes>"
      ]
     },
     "metadata": {},
     "output_type": "display_data"
    }
   ],
   "source": [
    "n_steps=750\n",
    "seq_length=20\n",
    "hidden=None\n",
    "lossseq=[]\n",
    "\n",
    "np.random.seed(1)\n",
    "for step in range(n_steps):\n",
    "    start=step*np.pi*2\n",
    "    end=start+np.pi*2\n",
    "    xtick=np.linspace(start, end, seq_length+1)\n",
    "    data=np.random.randint(0, 100, xtick.shape)\n",
    "    x_tensor=torch.Tensor(data[:-1])\n",
    "    y_tensor=torch.tensor(data[1:], dtype=torch.long)\n",
    "    \n",
    "    x_tensor=x_tensor.view(1, x_tensor.size(0), 1)\n",
    "#     y_tensor=y_tensor.view(y_tensor.size(0), 1)\n",
    "    x_tensor.requires_grad_()\n",
    "    out, hidden=rnn(x_tensor, hidden)\n",
    "    hidden = hidden.data\n",
    "    out=out.view(-1, hidden_size)\n",
    "    out=fc(out)\n",
    "    \n",
    "    optimizer.zero_grad()\n",
    "    loss=criterion(out, y_tensor)\n",
    "    loss.backward()\n",
    "    optimizer.step()\n",
    "    \n",
    "    if (step+1)%150==0:\n",
    "        lossseq.append(loss.item())\n",
    "plt.style.use('ggplot')\n",
    "plt.plot(lossseq)\n",
    "plt.show()"
   ]
  },
  {
   "cell_type": "code",
   "execution_count": null,
   "metadata": {
    "scrolled": true
   },
   "outputs": [],
   "source": [
    "plt.figure(figsize=(25,5))\n",
    "plt.style.use('ggplot')\n",
    "plt.plot(lossseq)\n",
    "plt.show()"
   ]
  },
  {
   "cell_type": "markdown",
   "metadata": {},
   "source": [
    "# When epochs grow\n",
    "<img src='data/rand-series.png' width=100% />"
   ]
  },
  {
   "cell_type": "code",
   "execution_count": null,
   "metadata": {},
   "outputs": [],
   "source": []
  }
 ],
 "metadata": {
  "kernelspec": {
   "display_name": "Python 3",
   "language": "python",
   "name": "python3"
  },
  "language_info": {
   "codemirror_mode": {
    "name": "ipython",
    "version": 3
   },
   "file_extension": ".py",
   "mimetype": "text/x-python",
   "name": "python",
   "nbconvert_exporter": "python",
   "pygments_lexer": "ipython3",
   "version": "3.7.1"
  }
 },
 "nbformat": 4,
 "nbformat_minor": 2
}
